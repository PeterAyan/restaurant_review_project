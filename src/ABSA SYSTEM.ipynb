{
 "cells": [
  {
   "cell_type": "markdown",
   "id": "834f2578-05b5-4c49-b38e-4b90971da2c0",
   "metadata": {},
   "source": [
    "# ASPECT BASED SENTIMENT ANALYSIS SYSTEM FOR RESTAURANT REVIEW\n"
   ]
  },
  {
   "cell_type": "markdown",
   "id": "827f0751-e2aa-4530-bdb7-d5137bfe6497",
   "metadata": {},
   "source": [
    "# Importing Libraries"
   ]
  },
  {
   "cell_type": "code",
   "execution_count": 21,
   "id": "12f4d59b-90f7-41a5-8b76-da0e325c26e0",
   "metadata": {},
   "outputs": [],
   "source": [
    "#Import necessary libraries\n",
    "import xml.etree.ElementTree as ET\n",
    "from nltk.tokenize import word_tokenize\n",
    "from nltk.stem import PorterStemmer\n",
    "from sklearn.feature_extraction.text import TfidfVectorizer\n",
    "from sklearn.linear_model import LogisticRegression\n",
    "import tkinter as tk\n",
    "from tkinter import ttk\n",
    "import numpy as np"
   ]
  },
  {
   "cell_type": "markdown",
   "id": "fa369eac-220d-4ac5-a53e-6b68f2a740b5",
   "metadata": {},
   "source": [
    "# Backend code"
   ]
  },
  {
   "cell_type": "markdown",
   "id": "5ad74a2f-99b5-42b0-ad23-5b0b8ec44fda",
   "metadata": {},
   "source": [
    "**Function to Parse XML Data**"
   ]
  },
  {
   "cell_type": "code",
   "execution_count": null,
   "id": "dc08d636-969d-4ee7-a8b2-9b8db1bd1632",
   "metadata": {},
   "outputs": [],
   "source": [
    "# Function to parse the XML data\n",
    "def parse_xml(file_path):\n",
    "    tree = ET.parse(file_path)\n",
    "    root = tree.getroot()\n",
    "\n",
    "    data = []\n",
    "    for review in root.findall('Review'):\n",
    "        rid = review.get('rid')\n",
    "        sentences = []\n",
    "        for sentence in review.findall('sentences/sentence'):\n",
    "            sid = sentence.get('id')\n",
    "            text = sentence.find('text').text\n",
    "            opinions = []\n",
    "            for opinion in sentence.findall('Opinions/Opinion'):\n",
    "                target = opinion.get('target')\n",
    "                category = opinion.get('category')\n",
    "                polarity = opinion.get('polarity')\n",
    "                entity, attribute = category.split('#')\n",
    "                opinions.append((entity, attribute, polarity))\n",
    "            sentences.append((sid, text, opinions))\n",
    "        data.append((rid, sentences))\n",
    "    return data"
   ]
  },
  {
   "cell_type": "markdown",
   "id": "85fd7681-7071-44c5-a956-52ad2a8196d9",
   "metadata": {},
   "source": [
    "**Preprocessing and Training the Data** "
   ]
  },
  {
   "cell_type": "code",
   "execution_count": null,
   "id": "ce9be3cb-f868-4ae8-b059-d486d74a9b4a",
   "metadata": {},
   "outputs": [],
   "source": [
    "# Function to preprocess text\n",
    "def preprocess_text(text):\n",
    "    tokens = word_tokenize(text.lower())\n",
    "    stemmer = PorterStemmer()\n",
    "    stemmed_tokens = [stemmer.stem(token) for token in tokens]\n",
    "    return ' '.join(stemmed_tokens)\n",
    "\n",
    "# Load and preprocess the training data\n",
    "train_data_path = 'ABSA_TRAIN.xml'\n",
    "train_data = parse_xml(train_data_path)\n",
    "\n",
    "X_train = []\n",
    "y_train = []\n",
    "for rid, sentences in train_data:\n",
    "    for sid, text, opinions in sentences:\n",
    "        for entity, attribute, polarity in opinions:\n",
    "            processed_text = preprocess_text(text)\n",
    "            X_train.append(processed_text)\n",
    "            y_train.append(polarity)\n",
    "\n",
    "# Create TF-IDF vectorizer and transform data\n",
    "vectorizer = TfidfVectorizer()\n",
    "X_train_tfidf = vectorizer.fit_transform(X_train)\n",
    "\n",
    "# Update labels to include 'neutral'\n",
    "labels = ['negative', 'neutral', 'positive']\n",
    "\n",
    "# Train a Logistic Regression model\n",
    "model = LogisticRegression(multi_class='multinomial', solver='lbfgs')\n",
    "model.fit(X_train_tfidf, y_train)"
   ]
  },
  {
   "cell_type": "markdown",
   "id": "23717e72-33f9-4987-918c-8197cf23dca8",
   "metadata": {},
   "source": [
    "**Function to Predict Polarity**"
   ]
  },
  {
   "cell_type": "code",
   "execution_count": null,
   "id": "a71ac24b-d4df-4bf3-8693-ece82da4aa19",
   "metadata": {},
   "outputs": [],
   "source": [
    "# Function to predict polarity for a new review with confidence threshold\n",
    "def predict_polarity(text, threshold=0.2):\n",
    "    processed_text = preprocess_text(text)\n",
    "    text_tfidf = vectorizer.transform([processed_text])\n",
    "    probabilities = model.predict_proba(text_tfidf)[0]\n",
    "    \n",
    "    # Check if difference in probabilities between highest and second highest probabilities is below threshold\n",
    "    diff = np.max(probabilities) - np.sort(probabilities)[-2]\n",
    "    if diff < threshold:\n",
    "        return 'neutral'\n",
    "    \n",
    "    predicted_polarity = model.predict(text_tfidf)[0]\n",
    "    return predicted_polarity\n",
    "\n",
    "# Function to get the emoji and color based on polarity\n",
    "def get_emoji_and_color(polarity):\n",
    "    if polarity == 'negative':\n",
    "        emoji = '😞'\n",
    "        color = '#ff4d4d'  # Red\n",
    "    elif polarity == 'neutral':\n",
    "        emoji = '😐'\n",
    "        color = '#ffff00'  # Yellow\n",
    "    else:\n",
    "        emoji = '😃'\n",
    "        color = '#00ff00'  # Green\n",
    "    return emoji, color"
   ]
  },
  {
   "cell_type": "code",
   "execution_count": null,
   "id": "d7630f88-35c6-4c0b-8e5e-ae06b17f8608",
   "metadata": {},
   "outputs": [],
   "source": []
  },
  {
   "cell_type": "markdown",
   "id": "3c6d7eec-bea6-44cf-8933-43fa74a3c271",
   "metadata": {},
   "source": [
    "# Frontend Code"
   ]
  },
  {
   "cell_type": "markdown",
   "id": "30547420-4822-4118-a130-dd9c7471b0ae",
   "metadata": {},
   "source": [
    "**GUI Creation**"
   ]
  },
  {
   "cell_type": "code",
   "execution_count": 23,
   "id": "e5408ff3-6e0e-4575-b164-a822eb6a0ab9",
   "metadata": {},
   "outputs": [],
   "source": [
    "\n",
    "def predict_and_display():\n",
    "    review_text = input_text.get(\"1.0\", \"end-1c\")  # Get the review text from the input field\n",
    "    predicted_polarity = predict_polarity(review_text)  # Call backend function to predict polarity\n",
    "    emoji, color = get_emoji_and_color(predicted_polarity)  # Call backend function to get emoji and color\n",
    "    \n",
    "    # Update the output label with predicted polarity, emoji, and color\n",
    "    output_label.config(text=f\"Predicted Polarity: {predicted_polarity} {emoji}\", foreground=color)\n",
    "\n",
    "# Create GUI\n",
    "root = tk.Tk()\n",
    "root.title(\"Sentiment Analysis Recommendation System\")\n",
    "\n",
    "# Create a label for the input field\n",
    "input_label = ttk.Label(root, text=\"Input any reviews:\")\n",
    "input_label.pack(pady=5)\n",
    "\n",
    "# Create a text box for inputting reviews\n",
    "input_text = tk.Text(root, height=5, width=50)\n",
    "input_text.pack(pady=5)\n",
    "\n",
    "# Create a button to predict the polarity\n",
    "predict_button = ttk.Button(root, text=\"Predict Polarity\", command=predict_and_display)\n",
    "predict_button.pack(pady=5)\n",
    "\n",
    "# Create a label to display the predicted polarity and emoji\n",
    "output_label = ttk.Label(root, text=\"\", font=(\"Arial\", 24))\n",
    "output_label.pack(pady=5)\n",
    "\n",
    "root.mainloop()"
   ]
  },
  {
   "cell_type": "code",
   "execution_count": null,
   "id": "0e6c666c-7f85-45a3-925b-e4fec450ff87",
   "metadata": {},
   "outputs": [],
   "source": []
  }
 ],
 "metadata": {
  "kernelspec": {
   "display_name": "Python 3 (ipykernel)",
   "language": "python",
   "name": "python3"
  },
  "language_info": {
   "codemirror_mode": {
    "name": "ipython",
    "version": 3
   },
   "file_extension": ".py",
   "mimetype": "text/x-python",
   "name": "python",
   "nbconvert_exporter": "python",
   "pygments_lexer": "ipython3",
   "version": "3.11.7"
  }
 },
 "nbformat": 4,
 "nbformat_minor": 5
}
